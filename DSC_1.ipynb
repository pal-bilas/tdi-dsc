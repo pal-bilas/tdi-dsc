{
 "cells": [
  {
   "cell_type": "markdown",
   "metadata": {},
   "source": [
    "# Challenge 1\n",
    "\n",
    "The New York City Fire Department keeps a log of detailed information on incidents handled by FDNY units. In this challenge we will work with a dataset that contains a record of incidents handled by FDNY units from 2013-2017. Download the FDNY data set. Also take a look at the dataset landing page and find descriptions of column names here.\n",
    "\n",
    "### Import Libraries"
   ]
  },
  {
   "cell_type": "code",
   "execution_count": 3,
   "metadata": {},
   "outputs": [],
   "source": [
    "import pandas as pd\n",
    "import numpy as np\n",
    "import time\n",
    "import seaborn as sns\n",
    "import matplotlib.pyplot as plt\n",
    "%matplotlib inline\n",
    "import warnings\n",
    "warnings.filterwarnings('ignore')"
   ]
  },
  {
   "cell_type": "code",
   "execution_count": 4,
   "metadata": {},
   "outputs": [],
   "source": [
    "df = pd.read_csv('Incidents_Responded_to_by_Fire_Companies.csv')"
   ]
  },
  {
   "cell_type": "code",
   "execution_count": 5,
   "metadata": {},
   "outputs": [],
   "source": [
    "#df.head()"
   ]
  },
  {
   "cell_type": "code",
   "execution_count": 6,
   "metadata": {},
   "outputs": [],
   "source": [
    "#df.info()"
   ]
  },
  {
   "cell_type": "markdown",
   "metadata": {},
   "source": [
    "__Question : What proportion of FDNY responses in this dataset correspond to the most common type of incident?__"
   ]
  },
  {
   "cell_type": "code",
   "execution_count": 7,
   "metadata": {},
   "outputs": [
    {
     "data": {
      "text/plain": [
       "0.3614828304238471"
      ]
     },
     "execution_count": 7,
     "metadata": {},
     "output_type": "execute_result"
    }
   ],
   "source": [
    "df['INCIDENT_TYPE_DESC'].str.contains('300 - Rescue, EMS incident, other').sum()/df['INCIDENT_TYPE_DESC'].count()"
   ]
  },
  {
   "cell_type": "markdown",
   "metadata": {},
   "source": [
    "__Question : What is the ratio of the average number of units that arrive to a scene of an incident classified as '111 - Building fire' to the number that arrive for '651 - Smoke scare, odor of smoke'?__"
   ]
  },
  {
   "cell_type": "code",
   "execution_count": 8,
   "metadata": {},
   "outputs": [
    {
     "data": {
      "text/plain": [
       "0.08789046762106846"
      ]
     },
     "execution_count": 8,
     "metadata": {},
     "output_type": "execute_result"
    }
   ],
   "source": [
    "df['INCIDENT_TYPE_DESC'].str.contains('111 - Building fire').sum()\\\n",
    "/df['INCIDENT_TYPE_DESC'].str.contains('651 - Smoke scare, odor of smoke').sum()"
   ]
  },
  {
   "cell_type": "markdown",
   "metadata": {},
   "source": [
    "__Question : How many times more likely is an incident in Staten Island a false call compared to in Manhattan? The answer should be the ratio of Staten Island false call rate to Manhattan false call rate. A false call is an incident for which 'INCIDENT_TYPE_DESC' is '710 - Malicious, mischievous false call, other'.__"
   ]
  },
  {
   "cell_type": "code",
   "execution_count": 9,
   "metadata": {},
   "outputs": [],
   "source": [
    "df_710 = df[df['INCIDENT_TYPE_DESC'] == '710 - Malicious, mischievous false call, other']\n",
    "#byborough = df_710.groupby('BOROUGH_DESC').count()\n",
    "#byborough.head()"
   ]
  },
  {
   "cell_type": "code",
   "execution_count": 10,
   "metadata": {},
   "outputs": [
    {
     "data": {
      "text/plain": [
       "0.327892234548336"
      ]
     },
     "execution_count": 10,
     "metadata": {},
     "output_type": "execute_result"
    }
   ],
   "source": [
    "df_710['BOROUGH_DESC'].str.contains('3 - Staten Island').sum()\\\n",
    "/df_710['BOROUGH_DESC'].str.contains('1 - Manhattan').sum()"
   ]
  },
  {
   "cell_type": "markdown",
   "metadata": {},
   "source": [
    "__Question : Check the distribution of the number of minutes it takes between the time a '111 - Building fire' incident has been logged into the Computer Aided Dispatch system and the time at which the first unit arrives on scene. What is the third quartile of that distribution. Note: the number of minutes can be fractional (ie, do not round).__"
   ]
  },
  {
   "cell_type": "code",
   "execution_count": 13,
   "metadata": {},
   "outputs": [],
   "source": [
    "df_111 = df[df['INCIDENT_TYPE_DESC'] == '111 - Building fire']\n",
    "df_111 = df_111[['INCIDENT_DATE_TIME', 'ARRIVAL_DATE_TIME']]\n",
    "#df_111.head()"
   ]
  },
  {
   "cell_type": "code",
   "execution_count": 14,
   "metadata": {},
   "outputs": [],
   "source": [
    "df_111['INCIDENT_DATE_TIME_t'] = pd.to_datetime(df_111['INCIDENT_DATE_TIME'])\n",
    "df_111['ARRIVAL_DATE_TIME_1'] = pd.to_datetime(df_111['ARRIVAL_DATE_TIME'])"
   ]
  },
  {
   "cell_type": "code",
   "execution_count": 15,
   "metadata": {},
   "outputs": [],
   "source": [
    "df_111['time_diff'] = df_111['ARRIVAL_DATE_TIME_1'] - df_111['INCIDENT_DATE_TIME_t']"
   ]
  },
  {
   "cell_type": "code",
   "execution_count": 16,
   "metadata": {},
   "outputs": [],
   "source": [
    "df_111['time_diff_hour'] = pd.to_datetime(df_111['time_diff']).\\\n",
    "apply(lambda time: time.hour)\n",
    "df_111['time_diff_min'] = pd.to_datetime(df_111['time_diff']).\\\n",
    "apply(lambda time: time.minute)\n",
    "df_111['time_diff_sec'] = pd.to_datetime(df_111['time_diff']).\\\n",
    "apply(lambda time: time.second)"
   ]
  },
  {
   "cell_type": "code",
   "execution_count": 17,
   "metadata": {},
   "outputs": [],
   "source": [
    "df_111['total_time_difference_min'] = \\\n",
    "    (df_111['time_diff_hour'])*60\\\n",
    "    +(df_111['time_diff_min'])\\\n",
    "    +(df_111['time_diff_sec'])/60"
   ]
  },
  {
   "cell_type": "code",
   "execution_count": 18,
   "metadata": {},
   "outputs": [
    {
     "data": {
      "text/plain": [
       "<matplotlib.axes._subplots.AxesSubplot at 0x1a22bb8b38>"
      ]
     },
     "execution_count": 18,
     "metadata": {},
     "output_type": "execute_result"
    },
    {
     "data": {
      "image/png": "[encoded data removed]",
      "text/plain": [
       "<Figure size 432x288 with 1 Axes>"
      ]
     },
     "metadata": {
      "needs_background": "light"
     },
     "output_type": "display_data"
    }
   ],
   "source": [
    "df_111 = df_111[df_111['total_time_difference_min']<200]\n",
    "df_111['total_time_difference_min'].plot(kind='hist',bins=10,logy=True)"
   ]
  },
  {
   "cell_type": "code",
   "execution_count": 20,
   "metadata": {},
   "outputs": [
    {
     "data": {
      "text/plain": [
       "count    13068.000000\n",
       "mean         3.592468\n",
       "std          1.480707\n",
       "min          0.250000\n",
       "25%          2.850000\n",
       "50%          3.450000\n",
       "75%          4.150000\n",
       "max         88.983333\n",
       "Name: total_time_difference_min, dtype: float64"
      ]
     },
     "execution_count": 20,
     "metadata": {},
     "output_type": "execute_result"
    }
   ],
   "source": [
    "df_111['total_time_difference_min'].describe()"
   ]
  },
  {
   "cell_type": "code",
   "execution_count": 22,
   "metadata": {},
   "outputs": [],
   "source": [
    "#sns.boxplot(df_111['total_time_difference_min'])"
   ]
  },
  {
   "cell_type": "markdown",
   "metadata": {},
   "source": [
    "__Question : We can use the FDNY dataset to investigate at what time of the day people cook most. Compute what proportion of all incidents are cooking fires for every hour of the day by normalizing the number of cooking fires in a given hour by the total number of incidents that occured in that hour. Find the hour of the day that has the highest proportion of cooking fires and submit that proportion of cooking fires. A cooking fire is an incident for which 'INCIDENT_TYPE_DESC' is '113 - Cooking fire, confined to container'. Note: round incident times down. For example, if an incident occured at 22:55 it occured in hour 22.__"
   ]
  },
  {
   "cell_type": "code",
   "execution_count": 23,
   "metadata": {},
   "outputs": [],
   "source": [
    "df_113 = df[df['INCIDENT_TYPE_DESC']=='113 - Cooking fire, confined to container']\n",
    "#df_113.head(100)"
   ]
  },
  {
   "cell_type": "code",
   "execution_count": 24,
   "metadata": {},
   "outputs": [],
   "source": [
    "#df_113.shape[0]"
   ]
  },
  {
   "cell_type": "code",
   "execution_count": 25,
   "metadata": {},
   "outputs": [],
   "source": [
    "df_113['INCIDENT_DATE_TIME_hour'] = pd.to_datetime(df_113['INCIDENT_DATE_TIME']).apply(lambda time: time.hour)"
   ]
  },
  {
   "cell_type": "code",
   "execution_count": 26,
   "metadata": {},
   "outputs": [],
   "source": [
    "df['INCIDENT_DATE_TIME_hour'] = pd.to_datetime(df['INCIDENT_DATE_TIME']).apply(lambda time: time.hour)"
   ]
  },
  {
   "cell_type": "code",
   "execution_count": 27,
   "metadata": {},
   "outputs": [
    {
     "data": {
      "text/plain": [
       "<matplotlib.axes._subplots.AxesSubplot at 0x1a27fdfdd8>"
      ]
     },
     "execution_count": 27,
     "metadata": {},
     "output_type": "execute_result"
    },
    {
     "data": {
      "image/png": "[encoded data removed]",
      "text/plain": [
       "<Figure size 432x288 with 1 Axes>"
      ]
     },
     "metadata": {
      "needs_background": "light"
     },
     "output_type": "display_data"
    }
   ],
   "source": [
    "sns.countplot(df_113['INCIDENT_DATE_TIME_hour'])"
   ]
  },
  {
   "cell_type": "code",
   "execution_count": 28,
   "metadata": {},
   "outputs": [
    {
     "data": {
      "text/plain": [
       "18    6806\n",
       "17    6541\n",
       "19    6456\n",
       "16    5680\n",
       "20    5451\n",
       "15    5150\n",
       "12    5000\n",
       "14    4979\n",
       "13    4963\n",
       "11    4464\n",
       "21    4284\n",
       "10    3983\n",
       "9     3503\n",
       "22    3140\n",
       "8     2818\n",
       "23    2530\n",
       "0     2047\n",
       "7     2007\n",
       "1     1571\n",
       "6     1455\n",
       "2     1203\n",
       "3     1059\n",
       "5      998\n",
       "4      951\n",
       "Name: INCIDENT_DATE_TIME_hour, dtype: int64"
      ]
     },
     "execution_count": 28,
     "metadata": {},
     "output_type": "execute_result"
    }
   ],
   "source": [
    "df_113['INCIDENT_DATE_TIME_hour'].value_counts()"
   ]
  },
  {
   "cell_type": "code",
   "execution_count": 29,
   "metadata": {},
   "outputs": [
    {
     "data": {
      "text/plain": [
       "17    136283\n",
       "18    133853\n",
       "16    128304\n",
       "19    127787\n",
       "15    126410\n",
       "14    126016\n",
       "13    121908\n",
       "20    120731\n",
       "12    117203\n",
       "11    113931\n",
       "21    110342\n",
       "10    109463\n",
       "9     102894\n",
       "22     99051\n",
       "8      91402\n",
       "23     88474\n",
       "7      72671\n",
       "0      71631\n",
       "1      57394\n",
       "6      52133\n",
       "2      47079\n",
       "5      41848\n",
       "3      41313\n",
       "4      39658\n",
       "Name: INCIDENT_DATE_TIME_hour, dtype: int64"
      ]
     },
     "execution_count": 29,
     "metadata": {},
     "output_type": "execute_result"
    }
   ],
   "source": [
    "df['INCIDENT_DATE_TIME_hour'].value_counts()"
   ]
  },
  {
   "cell_type": "markdown",
   "metadata": {},
   "source": [
    "Maximum cooking fire happened at 18:00. The proportion of this hour of cooking fire with respect to the all incident is"
   ]
  },
  {
   "cell_type": "code",
   "execution_count": 30,
   "metadata": {},
   "outputs": [
    {
     "data": {
      "text/plain": [
       "0.050846824501505385"
      ]
     },
     "execution_count": 30,
     "metadata": {},
     "output_type": "execute_result"
    }
   ],
   "source": [
    "6806/133853"
   ]
  },
  {
   "cell_type": "markdown",
   "metadata": {},
   "source": [
    "__Question: For this question, only consider incidents that have information about whether a CO detector was present or not. We are interested in how many times more likely it is that an incident is long when no CO detector is present compared to when a CO detector is present. For events with CO detector and for those without one, compute the proportion of incidents that lasted 20-30, 30-40, 40-50, 50-60, and 60-70 minutes (both interval boundary values included) by dividing the number of incidents in each time interval with the total number of incidents. For each bin, compute the ratio of the 'CO detector absent' frequency to the 'CO detector present' frequency. Perform a linear regression of this ratio to the mid-point of the bins. From this, what is the predicted ratio for events lasting 39 minutes?__"
   ]
  },
  {
   "cell_type": "code",
   "execution_count": 31,
   "metadata": {},
   "outputs": [],
   "source": [
    "df_co = df[['CO_DETECTOR_PRESENT_DESC', 'TOTAL_INCIDENT_DURATION']]"
   ]
  },
  {
   "cell_type": "code",
   "execution_count": 32,
   "metadata": {},
   "outputs": [],
   "source": [
    "#df_co.info()"
   ]
  },
  {
   "cell_type": "code",
   "execution_count": 33,
   "metadata": {},
   "outputs": [],
   "source": [
    "df_co = df_co.dropna()"
   ]
  },
  {
   "cell_type": "code",
   "execution_count": 34,
   "metadata": {},
   "outputs": [
    {
     "data": {
      "text/plain": [
       "<matplotlib.axes._subplots.AxesSubplot at 0x1a21704cc0>"
      ]
     },
     "execution_count": 34,
     "metadata": {},
     "output_type": "execute_result"
    },
    {
     "data": {
      "image/png": "[encoded data removed]",
      "text/plain": [
       "<Figure size 432x288 with 1 Axes>"
      ]
     },
     "metadata": {
      "needs_background": "light"
     },
     "output_type": "display_data"
    }
   ],
   "source": [
    "sns.countplot(df_co['CO_DETECTOR_PRESENT_DESC'])"
   ]
  },
  {
   "cell_type": "code",
   "execution_count": 35,
   "metadata": {},
   "outputs": [],
   "source": [
    "df_co['TOTAL_INCIDENT_DURATION_Min']\\\n",
    "= df_co['TOTAL_INCIDENT_DURATION'].apply(lambda x: x/60)"
   ]
  },
  {
   "cell_type": "code",
   "execution_count": 36,
   "metadata": {},
   "outputs": [],
   "source": [
    "df_co = df_co[(df_co['TOTAL_INCIDENT_DURATION_Min']>=20)\\\n",
    "              & (df_co['TOTAL_INCIDENT_DURATION_Min']<=70)]"
   ]
  },
  {
   "cell_type": "code",
   "execution_count": 37,
   "metadata": {},
   "outputs": [
    {
     "data": {
      "text/plain": [
       "<matplotlib.axes._subplots.AxesSubplot at 0x1a2735ba58>"
      ]
     },
     "execution_count": 37,
     "metadata": {},
     "output_type": "execute_result"
    },
    {
     "data": {
      "image/png": "[encoded data removed]",
      "text/plain": [
       "<Figure size 432x288 with 1 Axes>"
      ]
     },
     "metadata": {
      "needs_background": "light"
     },
     "output_type": "display_data"
    }
   ],
   "source": [
    "df_co['TOTAL_INCIDENT_DURATION_Min'].plot(kind='hist', bins=5)"
   ]
  },
  {
   "cell_type": "code",
   "execution_count": 38,
   "metadata": {},
   "outputs": [],
   "source": [
    "df_co['MIN_RANGE']=np.nan\n",
    "lst = [df_co]\n",
    "\n",
    "for col in lst:\n",
    "    col.loc[col['TOTAL_INCIDENT_DURATION_Min']<=30, 'MIN_RANGE'] = 'm23'\n",
    "    col.loc[(col['TOTAL_INCIDENT_DURATION_Min']>30) &(col['TOTAL_INCIDENT_DURATION_Min']<=40), 'MIN_RANGE'] = 'm34'\n",
    "    col.loc[(col['TOTAL_INCIDENT_DURATION_Min']>40) &(col['TOTAL_INCIDENT_DURATION_Min']<=50), 'MIN_RANGE'] = 'm45'\n",
    "    col.loc[(col['TOTAL_INCIDENT_DURATION_Min']>50) &(col['TOTAL_INCIDENT_DURATION_Min']<=60), 'MIN_RANGE'] = 'm56'\n",
    "    col.loc[(col['TOTAL_INCIDENT_DURATION_Min']>60) &(col['TOTAL_INCIDENT_DURATION_Min']<=70), 'MIN_RANGE'] = 'm67'"
   ]
  },
  {
   "cell_type": "code",
   "execution_count": 39,
   "metadata": {},
   "outputs": [
    {
     "data": {
      "text/plain": [
       "<matplotlib.axes._subplots.AxesSubplot at 0x1a281974a8>"
      ]
     },
     "execution_count": 39,
     "metadata": {},
     "output_type": "execute_result"
    },
    {
     "data": {
      "image/png": "[encoded data removed]",
      "text/plain": [
       "<Figure size 432x288 with 1 Axes>"
      ]
     },
     "metadata": {
      "needs_background": "light"
     },
     "output_type": "display_data"
    }
   ],
   "source": [
    "sns.countplot(df_co['MIN_RANGE'], hue=df_co['CO_DETECTOR_PRESENT_DESC'])"
   ]
  },
  {
   "cell_type": "code",
   "execution_count": 40,
   "metadata": {},
   "outputs": [],
   "source": [
    "myclass = pd.crosstab(index=df_co['CO_DETECTOR_PRESENT_DESC'], \n",
    "                            columns=df_co[\"MIN_RANGE\"],\n",
    "                             margins=True)   # Include row and column totals"
   ]
  },
  {
   "cell_type": "code",
   "execution_count": 41,
   "metadata": {},
   "outputs": [
    {
     "data": {
      "text/html": [
       "<div>\n",
       "<style scoped>\n",
       "    .dataframe tbody tr th:only-of-type {\n",
       "        vertical-align: middle;\n",
       "    }\n",
       "\n",
       "    .dataframe tbody tr th {\n",
       "        vertical-align: top;\n",
       "    }\n",
       "\n",
       "    .dataframe thead th {\n",
       "        text-align: right;\n",
       "    }\n",
       "</style>\n",
       "<table border=\"1\" class=\"dataframe\">\n",
       "  <thead>\n",
       "    <tr style=\"text-align: right;\">\n",
       "      <th>MIN_RANGE</th>\n",
       "      <th>m23</th>\n",
       "      <th>m34</th>\n",
       "      <th>m45</th>\n",
       "      <th>m56</th>\n",
       "      <th>m67</th>\n",
       "      <th>All</th>\n",
       "    </tr>\n",
       "    <tr>\n",
       "      <th>CO_DETECTOR_PRESENT_DESC</th>\n",
       "      <th></th>\n",
       "      <th></th>\n",
       "      <th></th>\n",
       "      <th></th>\n",
       "      <th></th>\n",
       "      <th></th>\n",
       "    </tr>\n",
       "  </thead>\n",
       "  <tbody>\n",
       "    <tr>\n",
       "      <th>No</th>\n",
       "      <td>1181</td>\n",
       "      <td>586</td>\n",
       "      <td>348</td>\n",
       "      <td>249</td>\n",
       "      <td>158</td>\n",
       "      <td>2522</td>\n",
       "    </tr>\n",
       "    <tr>\n",
       "      <th>Yes</th>\n",
       "      <td>6501</td>\n",
       "      <td>2145</td>\n",
       "      <td>923</td>\n",
       "      <td>481</td>\n",
       "      <td>235</td>\n",
       "      <td>10285</td>\n",
       "    </tr>\n",
       "    <tr>\n",
       "      <th>All</th>\n",
       "      <td>7682</td>\n",
       "      <td>2731</td>\n",
       "      <td>1271</td>\n",
       "      <td>730</td>\n",
       "      <td>393</td>\n",
       "      <td>12807</td>\n",
       "    </tr>\n",
       "  </tbody>\n",
       "</table>\n",
       "</div>"
      ],
      "text/plain": [
       "MIN_RANGE                  m23   m34   m45  m56  m67    All\n",
       "CO_DETECTOR_PRESENT_DESC                                   \n",
       "No                        1181   586   348  249  158   2522\n",
       "Yes                       6501  2145   923  481  235  10285\n",
       "All                       7682  2731  1271  730  393  12807"
      ]
     },
     "execution_count": 41,
     "metadata": {},
     "output_type": "execute_result"
    }
   ],
   "source": [
    "myclass"
   ]
  },
  {
   "cell_type": "code",
   "execution_count": 42,
   "metadata": {},
   "outputs": [],
   "source": [
    "A = [1181,586,348,249,158]\n",
    "B = [6501,2145,923,481,235]\n",
    "C = [x/y for x, y in zip(A, B)]"
   ]
  },
  {
   "cell_type": "code",
   "execution_count": 43,
   "metadata": {},
   "outputs": [
    {
     "data": {
      "text/plain": [
       "[0.18166435932933395,\n",
       " 0.2731934731934732,\n",
       " 0.37703141928494044,\n",
       " 0.5176715176715176,\n",
       " 0.6723404255319149]"
      ]
     },
     "execution_count": 43,
     "metadata": {},
     "output_type": "execute_result"
    }
   ],
   "source": [
    "C"
   ]
  },
  {
   "cell_type": "code",
   "execution_count": 44,
   "metadata": {},
   "outputs": [],
   "source": [
    "D=[25,35,45,55,65]"
   ]
  },
  {
   "cell_type": "code",
   "execution_count": 45,
   "metadata": {},
   "outputs": [
    {
     "data": {
      "image/png": "[encoded data removed]",
      "text/plain": [
       "<Figure size 432x288 with 1 Axes>"
      ]
     },
     "metadata": {
      "needs_background": "light"
     },
     "output_type": "display_data"
    },
    {
     "name": "stdout",
     "output_type": "stream",
     "text": [
      "best fit line:\n",
      "y = -0.1472433406 + 0.0122583018x\n"
     ]
    }
   ],
   "source": [
    "xd = D\n",
    "yd = C\n",
    "\n",
    "# make the scatter plot\n",
    "plt.scatter(xd, yd)\n",
    "\n",
    "# determine best fit line\n",
    "par = np.polyfit(xd, yd, 1, full=True)\n",
    "\n",
    "slope=par[0][0]\n",
    "intercept=par[0][1]\n",
    "xl = [min(xd), max(xd)]\n",
    "yl = [slope*xx + intercept  for xx in xl]\n",
    "\n",
    "\n",
    "plt.xlabel(\"X Description\")\n",
    "plt.ylabel(\"Y Description\")\n",
    "\n",
    "\n",
    "plt.plot(xl, yl, '-r')\n",
    "plt.show()\n",
    "\n",
    "print('best fit line:\\ny = {:.10f} + {:.10f}x'.format(intercept, slope))\n"
   ]
  },
  {
   "cell_type": "code",
   "execution_count": 46,
   "metadata": {},
   "outputs": [
    {
     "data": {
      "text/plain": [
       "0.3308304296"
      ]
     },
     "execution_count": 46,
     "metadata": {},
     "output_type": "execute_result"
    }
   ],
   "source": [
    "y = -0.1472433406 + 0.0122583018*39\n",
    "y"
   ]
  },
  {
   "cell_type": "markdown",
   "metadata": {},
   "source": [
    "__Question: Calculate the chi-square test statistic for testing whether an incident is more likely to last longer than 60 minutes when CO detector is not present. Again only consider incidents that have information about whether a CO detector was present or not.__"
   ]
  },
  {
   "cell_type": "code",
   "execution_count": 47,
   "metadata": {},
   "outputs": [
    {
     "data": {
      "image/png": "[encoded data removed]",
      "text/plain": [
       "<Figure size 432x288 with 1 Axes>"
      ]
     },
     "metadata": {
      "needs_background": "light"
     },
     "output_type": "display_data"
    },
    {
     "name": "stdout",
     "output_type": "stream",
     "text": [
      "best fit line:\n",
      "y = 1576.7500000000 + -23.8300000000x\n"
     ]
    }
   ],
   "source": [
    "xd = D\n",
    "yd = A\n",
    "\n",
    "# make the scatter plot\n",
    "plt.scatter(xd, yd)\n",
    "\n",
    "# determine best fit line\n",
    "par = np.polyfit(xd, yd, 1, full=True)\n",
    "\n",
    "slope=par[0][0]\n",
    "intercept=par[0][1]\n",
    "xl = [min(xd), max(xd)]\n",
    "yl = [slope*xx + intercept  for xx in xl]\n",
    "\n",
    "\n",
    "plt.xlabel(\"X Description\")\n",
    "plt.ylabel(\"Y Description\")\n",
    "\n",
    "\n",
    "plt.plot(xl, yl, '-r')\n",
    "plt.show()\n",
    "\n",
    "print('best fit line:\\ny = {:.10f} + {:.10f}x'.format(intercept, slope))\n"
   ]
  },
  {
   "cell_type": "code",
   "execution_count": 48,
   "metadata": {},
   "outputs": [
    {
     "data": {
      "text/plain": [
       "27.800000000000182"
      ]
     },
     "execution_count": 48,
     "metadata": {},
     "output_type": "execute_result"
    }
   ],
   "source": [
    "y = 1576.7500000000-23.8300000000*65\n",
    "y"
   ]
  },
  {
   "cell_type": "code",
   "execution_count": 50,
   "metadata": {},
   "outputs": [
    {
     "data": {
      "text/plain": [
       "609.7856115107857"
      ]
     },
     "execution_count": 50,
     "metadata": {},
     "output_type": "execute_result"
    }
   ],
   "source": [
    "observed = 158\n",
    "expected = y\n",
    "\n",
    "chi_squared_stat = (((observed-expected)**2)/expected)\n",
    "chi_squared_stat"
   ]
  },
  {
   "cell_type": "markdown",
   "metadata": {},
   "source": [
    "__Question: What is the coefficient of determination (R squared) between the number of residents at each zip code and the number of inicidents whose type is classified as '111 - Building fire' at each of those zip codes. Note: The 2010 US Census population by zip code dataset should be downloaded from here. You will need to use both the FDNY responses and the US Census dataset. Ignore zip codes that do not appear in the census table.__"
   ]
  },
  {
   "cell_type": "code",
   "execution_count": 51,
   "metadata": {},
   "outputs": [],
   "source": [
    "df_111_new = df[df['INCIDENT_TYPE_DESC'] == '111 - Building fire']"
   ]
  },
  {
   "cell_type": "code",
   "execution_count": 52,
   "metadata": {},
   "outputs": [],
   "source": [
    "df_111_new = df_111_new[['INCIDENT_TYPE_DESC', 'ZIP_CODE']]"
   ]
  },
  {
   "cell_type": "code",
   "execution_count": 53,
   "metadata": {},
   "outputs": [],
   "source": [
    "#sns.countplot(df_111_new['ZIP_CODE'])"
   ]
  },
  {
   "cell_type": "code",
   "execution_count": 55,
   "metadata": {},
   "outputs": [],
   "source": [
    "#df_111_new.describe()"
   ]
  },
  {
   "cell_type": "code",
   "execution_count": 56,
   "metadata": {},
   "outputs": [],
   "source": [
    "df_us = pd.read_csv('2010+Census+Population+By+Zipcode+(ZCTA).csv')"
   ]
  },
  {
   "cell_type": "code",
   "execution_count": 57,
   "metadata": {},
   "outputs": [],
   "source": [
    "#df_us.info()"
   ]
  },
  {
   "cell_type": "code",
   "execution_count": 58,
   "metadata": {},
   "outputs": [],
   "source": [
    "#Filtering \n",
    "Census_Subset = df_us[df_us['Zip Code ZCTA'].isin(df_111_new['ZIP_CODE'].tolist())]\n",
    "Census_Subset.columns = ['ZIP_CODE', 'POPULATION']\n",
    "Census_Subset.to_csv('./census.csv')"
   ]
  },
  {
   "cell_type": "code",
   "execution_count": 59,
   "metadata": {},
   "outputs": [
    {
     "data": {
      "text/html": [
       "<div>\n",
       "<style scoped>\n",
       "    .dataframe tbody tr th:only-of-type {\n",
       "        vertical-align: middle;\n",
       "    }\n",
       "\n",
       "    .dataframe tbody tr th {\n",
       "        vertical-align: top;\n",
       "    }\n",
       "\n",
       "    .dataframe thead th {\n",
       "        text-align: right;\n",
       "    }\n",
       "</style>\n",
       "<table border=\"1\" class=\"dataframe\">\n",
       "  <thead>\n",
       "    <tr style=\"text-align: right;\">\n",
       "      <th></th>\n",
       "      <th>INCIDENT_TYPE_DESC</th>\n",
       "      <th>ZIP_CODE</th>\n",
       "    </tr>\n",
       "  </thead>\n",
       "  <tbody>\n",
       "    <tr>\n",
       "      <th>90</th>\n",
       "      <td>111 - Building fire</td>\n",
       "      <td>11219</td>\n",
       "    </tr>\n",
       "    <tr>\n",
       "      <th>198</th>\n",
       "      <td>111 - Building fire</td>\n",
       "      <td>10456</td>\n",
       "    </tr>\n",
       "    <tr>\n",
       "      <th>439</th>\n",
       "      <td>111 - Building fire</td>\n",
       "      <td>10030</td>\n",
       "    </tr>\n",
       "    <tr>\n",
       "      <th>491</th>\n",
       "      <td>111 - Building fire</td>\n",
       "      <td>11373</td>\n",
       "    </tr>\n",
       "    <tr>\n",
       "      <th>568</th>\n",
       "      <td>111 - Building fire</td>\n",
       "      <td>11207</td>\n",
       "    </tr>\n",
       "  </tbody>\n",
       "</table>\n",
       "</div>"
      ],
      "text/plain": [
       "      INCIDENT_TYPE_DESC ZIP_CODE\n",
       "90   111 - Building fire    11219\n",
       "198  111 - Building fire    10456\n",
       "439  111 - Building fire    10030\n",
       "491  111 - Building fire    11373\n",
       "568  111 - Building fire    11207"
      ]
     },
     "execution_count": 59,
     "metadata": {},
     "output_type": "execute_result"
    }
   ],
   "source": [
    "#Filtering \n",
    "df111_Subset = df_111_new[df_111_new['ZIP_CODE'].isin(Census_Subset['ZIP_CODE'].tolist())]\n",
    "df111_Subset.head()"
   ]
  },
  {
   "cell_type": "code",
   "execution_count": 62,
   "metadata": {},
   "outputs": [],
   "source": [
    "df111_Subset['ZIP_CODE']=df111_Subset['ZIP_CODE'].astype(int)"
   ]
  },
  {
   "cell_type": "code",
   "execution_count": 63,
   "metadata": {},
   "outputs": [
    {
     "data": {
      "text/html": [
       "<div>\n",
       "<style scoped>\n",
       "    .dataframe tbody tr th:only-of-type {\n",
       "        vertical-align: middle;\n",
       "    }\n",
       "\n",
       "    .dataframe tbody tr th {\n",
       "        vertical-align: top;\n",
       "    }\n",
       "\n",
       "    .dataframe thead th {\n",
       "        text-align: right;\n",
       "    }\n",
       "</style>\n",
       "<table border=\"1\" class=\"dataframe\">\n",
       "  <thead>\n",
       "    <tr style=\"text-align: right;\">\n",
       "      <th></th>\n",
       "      <th>ZIP_CODE</th>\n",
       "      <th>POPULATION</th>\n",
       "      <th>INCIDENT_TYPE_DESC</th>\n",
       "    </tr>\n",
       "  </thead>\n",
       "  <tbody>\n",
       "    <tr>\n",
       "      <th>0</th>\n",
       "      <td>10001</td>\n",
       "      <td>21102</td>\n",
       "      <td>111 - Building fire</td>\n",
       "    </tr>\n",
       "    <tr>\n",
       "      <th>1</th>\n",
       "      <td>10001</td>\n",
       "      <td>21102</td>\n",
       "      <td>111 - Building fire</td>\n",
       "    </tr>\n",
       "    <tr>\n",
       "      <th>2</th>\n",
       "      <td>10001</td>\n",
       "      <td>21102</td>\n",
       "      <td>111 - Building fire</td>\n",
       "    </tr>\n",
       "    <tr>\n",
       "      <th>3</th>\n",
       "      <td>10001</td>\n",
       "      <td>21102</td>\n",
       "      <td>111 - Building fire</td>\n",
       "    </tr>\n",
       "    <tr>\n",
       "      <th>4</th>\n",
       "      <td>10001</td>\n",
       "      <td>21102</td>\n",
       "      <td>111 - Building fire</td>\n",
       "    </tr>\n",
       "  </tbody>\n",
       "</table>\n",
       "</div>"
      ],
      "text/plain": [
       "   ZIP_CODE  POPULATION   INCIDENT_TYPE_DESC\n",
       "0     10001       21102  111 - Building fire\n",
       "1     10001       21102  111 - Building fire\n",
       "2     10001       21102  111 - Building fire\n",
       "3     10001       21102  111 - Building fire\n",
       "4     10001       21102  111 - Building fire"
      ]
     },
     "execution_count": 63,
     "metadata": {},
     "output_type": "execute_result"
    }
   ],
   "source": [
    "dfmerged = pd.merge(Census_Subset,df111_Subset,on='ZIP_CODE')\n",
    "dfmerged.head()"
   ]
  },
  {
   "cell_type": "code",
   "execution_count": 64,
   "metadata": {},
   "outputs": [],
   "source": [
    "ratings = pd.DataFrame(dfmerged.groupby('ZIP_CODE')['POPULATION'].mean())\n",
    "ratings.head()\n",
    "ratings['number of ratings'] = pd.DataFrame(dfmerged.groupby('ZIP_CODE')['POPULATION'].count())\n",
    "#ratings\n",
    "#Census_Subset['number of inci'] = pd.DataFrame(dfmerged.groupby('ZIP_CODE').value_counts().tolist())\n",
    "#Census_Subset['number of inci'] = df111_Subset['ZIP_CODE'].value_counts().tolist()"
   ]
  },
  {
   "cell_type": "code",
   "execution_count": 65,
   "metadata": {},
   "outputs": [
    {
     "data": {
      "image/png": "[encoded data removed]",
      "text/plain": [
       "<Figure size 432x288 with 1 Axes>"
      ]
     },
     "metadata": {
      "needs_background": "light"
     },
     "output_type": "display_data"
    },
    {
     "name": "stdout",
     "output_type": "stream",
     "text": [
      "$R^2 = 0.5928733920$\n",
      "best fit line:\n",
      "y = 9.4534335298 + 0.0013772770x\n"
     ]
    }
   ],
   "source": [
    "sns.scatterplot(ratings['POPULATION'],ratings['number of ratings'])\n",
    "# determine best fit line\n",
    "par = np.polyfit(ratings['POPULATION'],ratings['number of ratings'], 1, full=True)\n",
    "\n",
    "slope=par[0][0]\n",
    "intercept=par[0][1]\n",
    "xl = [min(ratings['POPULATION']), max(ratings['POPULATION'])]\n",
    "yl = [slope*xx + intercept  for xx in xl]\n",
    "\n",
    "\n",
    "plt.xlabel(\"X Description\")\n",
    "plt.ylabel(\"Y Description\")\n",
    "\n",
    "# coefficient of determination, plot text\n",
    "variance = np.var(ratings['number of ratings'])\n",
    "residuals = np.var([(slope*xx + intercept - yy)  for xx,yy in zip(ratings['POPULATION'],ratings['number of ratings'])])\n",
    "Rsqr = np.round(1-residuals/variance, decimals=10)\n",
    "\n",
    "#plt.text(.9*max(ratings['POPULATION'])+.1*min(ratings['POPULATION']),.9*max(ratings['number of ratings'])+.1*min(ratings['number of ratings']),'$R^2 = %0.10f$'% Rsqr, fontsize=30)\n",
    "\n",
    "plt.plot(xl, yl, '-r')\n",
    "plt.show()\n",
    "print('$R^2 = %0.10f$'% Rsqr)\n",
    "print('best fit line:\\ny = {:.10f} + {:.10f}x'.format(intercept, slope))"
   ]
  },
  {
   "cell_type": "code",
   "execution_count": null,
   "metadata": {},
   "outputs": [],
   "source": []
  }
 ],
 "metadata": {
  "kernelspec": {
   "display_name": "Python 3",
   "language": "python",
   "name": "python3"
  },
  "language_info": {
   "codemirror_mode": {
    "name": "ipython",
    "version": 3
   },
   "file_extension": ".py",
   "mimetype": "text/x-python",
   "name": "python",
   "nbconvert_exporter": "python",
   "pygments_lexer": "ipython3",
   "version": "3.7.1"
  }
 },
 "nbformat": 4,
 "nbformat_minor": 2
}
