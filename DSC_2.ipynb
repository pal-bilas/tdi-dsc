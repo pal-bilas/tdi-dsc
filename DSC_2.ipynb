{
 "cells": [
  {
   "cell_type": "code",
   "execution_count": 8,
   "metadata": {},
   "outputs": [
    {
     "name": "stdout",
     "output_type": "stream",
     "text": [
      "{(0, 6, 7, 8, 9), (1, 5, 7, 8, 9), (4, 5, 6, 7, 8), (2, 5, 6, 8, 9), (3, 4, 6, 8, 9), (3, 5, 6, 7, 9), (2, 4, 7, 8, 9)}\n",
      "7\n"
     ]
    }
   ],
   "source": [
    "import itertools\n",
    "import numpy as np\n",
    "numbers = [0, 1, 2, 3, 4, 5, 6, 7, 8, 9]\n",
    "result = [seq for i in range(len(numbers), 0, -1) for seq in itertools.combinations(numbers, 5) if sum(seq) == 30]\n",
    "print (set(result))\n",
    "print (len(set(result)))"
   ]
  },
  {
   "cell_type": "code",
   "execution_count": 9,
   "metadata": {},
   "outputs": [
    {
     "name": "stdout",
     "output_type": "stream",
     "text": [
      "{(0, 1, 3, 7, 9), (0, 2, 4, 5, 9), (0, 2, 3, 6, 9), (1, 2, 3, 6, 8), (0, 2, 4, 6, 8), (0, 1, 5, 6, 8), (0, 1, 4, 7, 8), (0, 3, 4, 6, 7), (0, 2, 3, 7, 8), (1, 2, 4, 5, 8), (0, 3, 4, 5, 8), (1, 3, 4, 5, 7), (2, 3, 4, 5, 6), (0, 1, 2, 8, 9), (1, 2, 4, 6, 7), (1, 2, 3, 5, 9), (0, 2, 5, 6, 7), (0, 1, 4, 6, 9)}\n",
      "18\n"
     ]
    }
   ],
   "source": [
    "result1 = [seq for i in range(len(numbers), 0, -1) for seq in itertools.combinations(numbers, 5) if sum(seq) == 20]\n",
    "print (set(result1))\n",
    "print (len(set(result1)))"
   ]
  },
  {
   "cell_type": "code",
   "execution_count": 10,
   "metadata": {},
   "outputs": [
    {
     "name": "stdout",
     "output_type": "stream",
     "text": [
      "{(0, 1, 2, 3, 4)}\n",
      "1\n"
     ]
    }
   ],
   "source": [
    "result2 = [seq for i in range(len(numbers), 0, -1) for seq in itertools.combinations(numbers, 5) if sum(seq) == 10]\n",
    "print (set(result2))\n",
    "print (len(set(result2)))"
   ]
  },
  {
   "cell_type": "code",
   "execution_count": 13,
   "metadata": {},
   "outputs": [],
   "source": [
    "A = set(result)\n",
    "B = set(result1)\n",
    "C = set(result2)\n",
    "A.update(B)\n",
    "A.update(C)\n",
    "A = list(A)"
   ]
  },
  {
   "cell_type": "code",
   "execution_count": 14,
   "metadata": {},
   "outputs": [
    {
     "data": {
      "text/plain": [
       "4.461538461538462"
      ]
     },
     "execution_count": 14,
     "metadata": {},
     "output_type": "execute_result"
    }
   ],
   "source": [
    "np.mean(A)"
   ]
  },
  {
   "cell_type": "code",
   "execution_count": 15,
   "metadata": {},
   "outputs": [
    {
     "data": {
      "text/plain": [
       "2.872023800399149"
      ]
     },
     "execution_count": 15,
     "metadata": {},
     "output_type": "execute_result"
    }
   ],
   "source": [
    "np.std(A)"
   ]
  },
  {
   "cell_type": "code",
   "execution_count": 20,
   "metadata": {},
   "outputs": [],
   "source": [
    "AV = np.mean(A,axis=1)"
   ]
  },
  {
   "cell_type": "code",
   "execution_count": 25,
   "metadata": {},
   "outputs": [
    {
     "data": {
      "text/plain": [
       "1.0088366960464616"
      ]
     },
     "execution_count": 25,
     "metadata": {},
     "output_type": "execute_result"
    }
   ],
   "source": [
    "np.std(AV)"
   ]
  },
  {
   "cell_type": "code",
   "execution_count": 26,
   "metadata": {},
   "outputs": [],
   "source": [
    "STD = np.std(A,axis=1)"
   ]
  },
  {
   "cell_type": "code",
   "execution_count": 27,
   "metadata": {},
   "outputs": [
    {
     "data": {
      "text/plain": [
       "0.6009067951456653"
      ]
     },
     "execution_count": 27,
     "metadata": {},
     "output_type": "execute_result"
    }
   ],
   "source": [
    "np.std(STD)"
   ]
  },
  {
   "cell_type": "code",
   "execution_count": 29,
   "metadata": {},
   "outputs": [],
   "source": [
    "numbers = [0, 1, 2, 3, 4, 5, 6, 7, 8, 9, 10, 11, 12, 13, 14, 15, 16, 17, 18, 19, 20, 21, 22, 23, 24]\n",
    "result = [seq for i in range(len(numbers), 0, -1) for seq in itertools.combinations(numbers, 10) if sum(seq) == 95]\n",
    "#print (set(result))\n",
    "#print (len(set(result)))"
   ]
  },
  {
   "cell_type": "code",
   "execution_count": 30,
   "metadata": {},
   "outputs": [],
   "source": [
    "result1 = [seq for i in range(len(numbers), 0, -1) for seq in itertools.combinations(numbers, 10) if sum(seq) == 70]\n",
    "#print (set(result1))\n",
    "#print (len(set(result1)))"
   ]
  },
  {
   "cell_type": "code",
   "execution_count": 31,
   "metadata": {},
   "outputs": [],
   "source": [
    "result2 = [seq for i in range(len(numbers), 0, -1) for seq in itertools.combinations(numbers, 10) if sum(seq) == 45]"
   ]
  },
  {
   "cell_type": "code",
   "execution_count": 32,
   "metadata": {},
   "outputs": [],
   "source": [
    "A = set(result)\n",
    "B = set(result1)\n",
    "C = set(result2)\n",
    "A.update(B)\n",
    "A.update(C)\n",
    "A = list(A)"
   ]
  },
  {
   "cell_type": "code",
   "execution_count": 33,
   "metadata": {},
   "outputs": [
    {
     "data": {
      "text/plain": [
       "9.386344643155608"
      ]
     },
     "execution_count": 33,
     "metadata": {},
     "output_type": "execute_result"
    }
   ],
   "source": [
    "np.mean(A)"
   ]
  },
  {
   "cell_type": "code",
   "execution_count": 34,
   "metadata": {},
   "outputs": [
    {
     "data": {
      "text/plain": [
       "6.760889092417076"
      ]
     },
     "execution_count": 34,
     "metadata": {},
     "output_type": "execute_result"
    }
   ],
   "source": [
    "np.std(A)"
   ]
  },
  {
   "cell_type": "code",
   "execution_count": 35,
   "metadata": {},
   "outputs": [
    {
     "data": {
      "text/plain": [
       "0.5211896991961649"
      ]
     },
     "execution_count": 35,
     "metadata": {},
     "output_type": "execute_result"
    }
   ],
   "source": [
    "AV = np.mean(A,axis=1)\n",
    "np.std(AV)"
   ]
  },
  {
   "cell_type": "code",
   "execution_count": 39,
   "metadata": {},
   "outputs": [
    {
     "data": {
      "text/plain": [
       "0.87594523"
      ]
     },
     "execution_count": 39,
     "metadata": {},
     "output_type": "execute_result"
    }
   ],
   "source": [
    "STD = np.std(A,axis=1)\n",
    "round(np.std(STD),ndigits=10)"
   ]
  },
  {
   "cell_type": "code",
   "execution_count": null,
   "metadata": {},
   "outputs": [],
   "source": []
  }
 ],
 "metadata": {
  "kernelspec": {
   "display_name": "Python 3",
   "language": "python",
   "name": "python3"
  },
  "language_info": {
   "codemirror_mode": {
    "name": "ipython",
    "version": 3
   },
   "file_extension": ".py",
   "mimetype": "text/x-python",
   "name": "python",
   "nbconvert_exporter": "python",
   "pygments_lexer": "ipython3",
   "version": "3.7.1"
  }
 },
 "nbformat": 4,
 "nbformat_minor": 2
}
